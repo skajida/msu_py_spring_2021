{
 "cells": [
  {
   "cell_type": "markdown",
   "metadata": {},
   "source": [
    "### pandas test"
   ]
  },
  {
   "cell_type": "code",
   "execution_count": 1,
   "metadata": {},
   "outputs": [],
   "source": [
    "import pandas as pd\n",
    "import numpy as np"
   ]
  },
  {
   "cell_type": "code",
   "execution_count": 2,
   "metadata": {},
   "outputs": [
    {
     "data": {
      "text/html": [
       "<div>\n",
       "<style scoped>\n",
       "    .dataframe tbody tr th:only-of-type {\n",
       "        vertical-align: middle;\n",
       "    }\n",
       "\n",
       "    .dataframe tbody tr th {\n",
       "        vertical-align: top;\n",
       "    }\n",
       "\n",
       "    .dataframe thead th {\n",
       "        text-align: right;\n",
       "    }\n",
       "</style>\n",
       "<table border=\"1\" class=\"dataframe\">\n",
       "  <thead>\n",
       "    <tr style=\"text-align: right;\">\n",
       "      <th></th>\n",
       "      <th>date</th>\n",
       "      <th>vendor_id</th>\n",
       "      <th>chain_id</th>\n",
       "      <th>city_id</th>\n",
       "      <th>spec</th>\n",
       "      <th>successful_orders</th>\n",
       "      <th>fail_orders</th>\n",
       "    </tr>\n",
       "  </thead>\n",
       "  <tbody>\n",
       "    <tr>\n",
       "      <th>0</th>\n",
       "      <td>2019-07-02</td>\n",
       "      <td>40065</td>\n",
       "      <td>7501</td>\n",
       "      <td>23</td>\n",
       "      <td>Суши</td>\n",
       "      <td>54.0</td>\n",
       "      <td>1.0</td>\n",
       "    </tr>\n",
       "    <tr>\n",
       "      <th>1</th>\n",
       "      <td>2019-08-27</td>\n",
       "      <td>48058</td>\n",
       "      <td>33226</td>\n",
       "      <td>23</td>\n",
       "      <td>Шаурма</td>\n",
       "      <td>0.0</td>\n",
       "      <td>0.0</td>\n",
       "    </tr>\n",
       "    <tr>\n",
       "      <th>2</th>\n",
       "      <td>2019-09-25</td>\n",
       "      <td>35430</td>\n",
       "      <td>26220</td>\n",
       "      <td>25</td>\n",
       "      <td>Пицца</td>\n",
       "      <td>2.0</td>\n",
       "      <td>0.0</td>\n",
       "    </tr>\n",
       "    <tr>\n",
       "      <th>3</th>\n",
       "      <td>2019-09-21</td>\n",
       "      <td>56553</td>\n",
       "      <td>38601</td>\n",
       "      <td>23</td>\n",
       "      <td>Шашлыки</td>\n",
       "      <td>1.0</td>\n",
       "      <td>0.0</td>\n",
       "    </tr>\n",
       "    <tr>\n",
       "      <th>4</th>\n",
       "      <td>2019-09-21</td>\n",
       "      <td>43919</td>\n",
       "      <td>30984</td>\n",
       "      <td>25</td>\n",
       "      <td>Суши</td>\n",
       "      <td>6.0</td>\n",
       "      <td>0.0</td>\n",
       "    </tr>\n",
       "    <tr>\n",
       "      <th>5</th>\n",
       "      <td>2019-06-13</td>\n",
       "      <td>53006</td>\n",
       "      <td>36214</td>\n",
       "      <td>26</td>\n",
       "      <td>Грузинская</td>\n",
       "      <td>2.0</td>\n",
       "      <td>0.0</td>\n",
       "    </tr>\n",
       "    <tr>\n",
       "      <th>6</th>\n",
       "      <td>2019-07-07</td>\n",
       "      <td>28982</td>\n",
       "      <td>20651</td>\n",
       "      <td>24</td>\n",
       "      <td>Суши</td>\n",
       "      <td>0.0</td>\n",
       "      <td>1.0</td>\n",
       "    </tr>\n",
       "    <tr>\n",
       "      <th>7</th>\n",
       "      <td>2019-08-01</td>\n",
       "      <td>45472</td>\n",
       "      <td>30409</td>\n",
       "      <td>24</td>\n",
       "      <td>Бургеры</td>\n",
       "      <td>37.0</td>\n",
       "      <td>4.0</td>\n",
       "    </tr>\n",
       "    <tr>\n",
       "      <th>8</th>\n",
       "      <td>2019-07-03</td>\n",
       "      <td>65358</td>\n",
       "      <td>43034</td>\n",
       "      <td>23</td>\n",
       "      <td>Русская</td>\n",
       "      <td>1.0</td>\n",
       "      <td>0.0</td>\n",
       "    </tr>\n",
       "    <tr>\n",
       "      <th>9</th>\n",
       "      <td>2019-09-19</td>\n",
       "      <td>60878</td>\n",
       "      <td>41231</td>\n",
       "      <td>23</td>\n",
       "      <td>Русская</td>\n",
       "      <td>4.0</td>\n",
       "      <td>0.0</td>\n",
       "    </tr>\n",
       "  </tbody>\n",
       "</table>\n",
       "</div>"
      ],
      "text/plain": [
       "         date  vendor_id  chain_id  city_id        spec  successful_orders  \\\n",
       "0  2019-07-02      40065      7501       23        Суши               54.0   \n",
       "1  2019-08-27      48058     33226       23      Шаурма                0.0   \n",
       "2  2019-09-25      35430     26220       25       Пицца                2.0   \n",
       "3  2019-09-21      56553     38601       23     Шашлыки                1.0   \n",
       "4  2019-09-21      43919     30984       25        Суши                6.0   \n",
       "5  2019-06-13      53006     36214       26  Грузинская                2.0   \n",
       "6  2019-07-07      28982     20651       24        Суши                0.0   \n",
       "7  2019-08-01      45472     30409       24     Бургеры               37.0   \n",
       "8  2019-07-03      65358     43034       23     Русская                1.0   \n",
       "9  2019-09-19      60878     41231       23     Русская                4.0   \n",
       "\n",
       "   fail_orders  \n",
       "0          1.0  \n",
       "1          0.0  \n",
       "2          0.0  \n",
       "3          0.0  \n",
       "4          0.0  \n",
       "5          0.0  \n",
       "6          1.0  \n",
       "7          4.0  \n",
       "8          0.0  \n",
       "9          0.0  "
      ]
     },
     "execution_count": 2,
     "metadata": {},
     "output_type": "execute_result"
    }
   ],
   "source": [
    "df = pd.read_csv('orders.csv')\n",
    "df['date'] = df['date'].astype('category')\n",
    "df['spec'] = df['spec'].astype('category')\n",
    "df.head(10)"
   ]
  },
  {
   "cell_type": "markdown",
   "metadata": {},
   "source": [
    "Сколько в датафрейме колонок с типом **float64**?\n",
    "\n",
    "`2 columns with Dtype == float64`\n",
    "\n",
    "Чему равно произведение кол-ва наблюдений на кол-во колонок в датафрейме?\n",
    "\n",
    "`7 columns * 96118 entries = 672826`"
   ]
  },
  {
   "cell_type": "code",
   "execution_count": 3,
   "metadata": {},
   "outputs": [
    {
     "name": "stdout",
     "output_type": "stream",
     "text": [
      "<class 'pandas.core.frame.DataFrame'>\n",
      "RangeIndex: 96118 entries, 0 to 96117\n",
      "Data columns (total 7 columns):\n",
      " #   Column             Non-Null Count  Dtype   \n",
      "---  ------             --------------  -----   \n",
      " 0   date               96118 non-null  category\n",
      " 1   vendor_id          96118 non-null  int64   \n",
      " 2   chain_id           96118 non-null  int64   \n",
      " 3   city_id            96118 non-null  int64   \n",
      " 4   spec               95733 non-null  category\n",
      " 5   successful_orders  96118 non-null  float64 \n",
      " 6   fail_orders        96118 non-null  float64 \n",
      "dtypes: category(2), float64(2), int64(3)\n",
      "memory usage: 3.9 MB\n"
     ]
    }
   ],
   "source": [
    "df.info()"
   ]
  },
  {
   "cell_type": "markdown",
   "metadata": {},
   "source": [
    "Сколько уникальных городов в датафрейме?\n",
    "\n",
    "`4 different cities`"
   ]
  },
  {
   "cell_type": "code",
   "execution_count": 4,
   "metadata": {},
   "outputs": [
    {
     "data": {
      "text/plain": [
       "4"
      ]
     },
     "execution_count": 4,
     "metadata": {},
     "output_type": "execute_result"
    }
   ],
   "source": [
    "df['city_id'].unique().shape[0]"
   ]
  },
  {
   "cell_type": "markdown",
   "metadata": {},
   "source": [
    "Сколько успешных заказов в среднем получали рестораны в день? (ответ округлить до целого)\n",
    "\n",
    "`~9 successful orders per day`"
   ]
  },
  {
   "cell_type": "code",
   "execution_count": 5,
   "metadata": {},
   "outputs": [
    {
     "data": {
      "text/plain": [
       "8.877400694979087"
      ]
     },
     "execution_count": 5,
     "metadata": {},
     "output_type": "execute_result"
    }
   ],
   "source": [
    "df['successful_orders'].mean()"
   ]
  },
  {
   "cell_type": "markdown",
   "metadata": {},
   "source": [
    "Кол-во ресторанов со специализацией \"Рыба\"?\n",
    "\n",
    "`18 restaurants`"
   ]
  },
  {
   "cell_type": "code",
   "execution_count": 6,
   "metadata": {},
   "outputs": [
    {
     "data": {
      "text/plain": [
       "18"
      ]
     },
     "execution_count": 6,
     "metadata": {},
     "output_type": "execute_result"
    }
   ],
   "source": [
    "df[df['spec'] == 'Рыба']['vendor_id'].unique().shape[0]"
   ]
  },
  {
   "cell_type": "markdown",
   "metadata": {},
   "source": [
    "Сколько у ресторана 40065 было дней с кол-вом успешных заказов менее 20?\n",
    "\n",
    "`vendor 40065 has 45 days with less than 20 successful orders`"
   ]
  },
  {
   "cell_type": "code",
   "execution_count": 7,
   "metadata": {},
   "outputs": [
    {
     "data": {
      "text/plain": [
       "45"
      ]
     },
     "execution_count": 7,
     "metadata": {},
     "output_type": "execute_result"
    }
   ],
   "source": [
    "vendor_40065 = df[df['vendor_id'] == 40065]\n",
    "vendor_40065[vendor_40065['successful_orders'] < 20].shape[0]"
   ]
  },
  {
   "cell_type": "markdown",
   "metadata": {},
   "source": [
    "Сколько успешных заказов в среднем получили рестораны за весь период времени? (ответ округлить до целого)\n",
    "\n",
    "`555`"
   ]
  },
  {
   "cell_type": "code",
   "execution_count": 8,
   "metadata": {},
   "outputs": [
    {
     "data": {
      "text/plain": [
       "555.1581001951854"
      ]
     },
     "execution_count": 8,
     "metadata": {},
     "output_type": "execute_result"
    }
   ],
   "source": [
    "df.groupby(by='vendor_id')['successful_orders'].sum().mean()"
   ]
  },
  {
   "cell_type": "markdown",
   "metadata": {},
   "source": [
    "Город с самым маленьким количеством успешных заказов за весь период.\n",
    "\n",
    "`city 24`"
   ]
  },
  {
   "cell_type": "code",
   "execution_count": 9,
   "metadata": {},
   "outputs": [
    {
     "data": {
      "text/plain": [
       "city_id\n",
       "23    277744.0\n",
       "24    114977.0\n",
       "25    228518.0\n",
       "26    232039.0\n",
       "Name: successful_orders, dtype: float64"
      ]
     },
     "execution_count": 9,
     "metadata": {},
     "output_type": "execute_result"
    }
   ],
   "source": [
    "df.groupby(by='city_id')['successful_orders'].sum()"
   ]
  },
  {
   "cell_type": "markdown",
   "metadata": {},
   "source": [
    "Какая специализация имеет самую высокую долю неуспешных заказов за весь период времени (все заказы по конкретному ресторану складываются из успешных, неуспешных заказов)?\n",
    "\n",
    "`Вегетарианское меню -- the lowest success_prob -> the highest fail_prob`"
   ]
  },
  {
   "cell_type": "code",
   "execution_count": 10,
   "metadata": {},
   "outputs": [
    {
     "data": {
      "text/plain": [
       "spec\n",
       "Вегетарианское меню    0.172414\n",
       "Халяль                 0.782609\n",
       "Хинкали                0.833333\n",
       "Завтраки               0.844523\n",
       "Хот-доги               0.859259\n",
       "dtype: float64"
      ]
     },
     "execution_count": 10,
     "metadata": {},
     "output_type": "execute_result"
    }
   ],
   "source": [
    "spec = df.groupby(by='spec')\n",
    "success_prob = spec['successful_orders'].sum() / (spec['successful_orders'].sum() + spec['fail_orders'].sum())\n",
    "success_prob.sort_values().head()"
   ]
  },
  {
   "cell_type": "markdown",
   "metadata": {},
   "source": [
    "Какая из сетей (chain_id) показала максимальный абсолютный рост за август 2019 года по сравнению с июлем 2019 года? Учитывать только те сети, у которых заказы были в июле и в августе?\n",
    "\n",
    "```python\n",
    "july_mask = (df.date >= '2019-07-01') & (df.date <= '2019-07-31')\n",
    "august_mask = (df.date >='2019-08-01') & (df.date <= '2019-08-31')\n",
    "july_sales = df[july_mask].groupby('chain_id')['successful_orders'].sum().reset_index()\n",
    "august_sales = df[august_mask].groupby('chain_id')['successful_orders'].sum().reset_index()\n",
    "merged_table = august_sales.merge(july_sales, how='left', on='chain_id', suffixes=('_august', '_july'))\n",
    "merged_table['increase'] = merged_table['successful_orders_august'] - merged_table['successful_orders_july']\n",
    "merged_table.sort_values('increase', ascending = False).iloc[0]['chain_id']\n",
    "```\n",
    "\n",
    "`29925`"
   ]
  }
 ],
 "metadata": {
  "kernelspec": {
   "display_name": "Python 3",
   "language": "python",
   "name": "python3"
  },
  "language_info": {
   "codemirror_mode": {
    "name": "ipython",
    "version": 3
   },
   "file_extension": ".py",
   "mimetype": "text/x-python",
   "name": "python",
   "nbconvert_exporter": "python",
   "pygments_lexer": "ipython3",
   "version": "3.8.6"
  }
 },
 "nbformat": 4,
 "nbformat_minor": 4
}
